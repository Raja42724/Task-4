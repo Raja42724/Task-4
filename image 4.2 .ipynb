{
 "cells": [
  {
   "cell_type": "markdown",
   "id": "72c1bd48",
   "metadata": {},
   "source": [
    "# task - 4.2\n"
   ]
  },
  {
   "cell_type": "code",
   "execution_count": 13,
   "id": "029174f2",
   "metadata": {},
   "outputs": [],
   "source": [
    "import cv2"
   ]
  },
  {
   "cell_type": "code",
   "execution_count": 20,
   "id": "2912fe2f",
   "metadata": {},
   "outputs": [],
   "source": [
    "img1 = cv2.imread('moon.jpg',1)\n",
    "cv2.imshow('swap',img1)\n",
    "cv2.waitKey()\n",
    "cv2.destroyAllWindows()"
   ]
  },
  {
   "cell_type": "code",
   "execution_count": 21,
   "id": "71c13c1d",
   "metadata": {},
   "outputs": [
    {
     "data": {
      "text/plain": [
       "(612, 612, 3)"
      ]
     },
     "execution_count": 21,
     "metadata": {},
     "output_type": "execute_result"
    }
   ],
   "source": [
    "img1.shape"
   ]
  },
  {
   "cell_type": "code",
   "execution_count": 22,
   "id": "ee560a0b",
   "metadata": {},
   "outputs": [],
   "source": [
    "img2 = cv2.imread('the-sun-shining-brightly-over-knoxville-tennessee1.jpg',1)\n",
    "cv2.imshow('swap',img2)\n",
    "cv2.waitKey()\n",
    "cv2.destroyAllWindows()"
   ]
  },
  {
   "cell_type": "code",
   "execution_count": 23,
   "id": "f77e9b2b",
   "metadata": {},
   "outputs": [
    {
     "data": {
      "text/plain": [
       "(778, 1130, 3)"
      ]
     },
     "execution_count": 23,
     "metadata": {},
     "output_type": "execute_result"
    }
   ],
   "source": [
    "img2.shape"
   ]
  },
  {
   "cell_type": "code",
   "execution_count": 24,
   "id": "90014173",
   "metadata": {},
   "outputs": [],
   "source": [
    "v= img1[130:480,100:480]\n",
    "cv2.imshow('1',v)\n",
    "cv2.waitKey()\n",
    "cv2.destroyAllWindows()\n"
   ]
  },
  {
   "cell_type": "code",
   "execution_count": 25,
   "id": "27c28ef2",
   "metadata": {},
   "outputs": [],
   "source": [
    "img2 = cv2.imread('the-sun-shining-brightly-over-knoxville-tennessee1.jpg',1)"
   ]
  },
  {
   "cell_type": "code",
   "execution_count": 26,
   "id": "1c5c9613",
   "metadata": {},
   "outputs": [],
   "source": [
    "x = img2[150:500,500:880]\n",
    "cv2.imshow('2',x)\n",
    "cv2.waitKey()\n",
    "\n",
    "cv2.destroyAllWindows()"
   ]
  },
  {
   "cell_type": "code",
   "execution_count": 27,
   "id": "d3d78052",
   "metadata": {},
   "outputs": [],
   "source": [
    "img2[150:500,500:880]=v\n",
    "cv2.imshow('1',img2)\n",
    "cv2.waitKey()\n",
    "cv2.destroyAllWindows()"
   ]
  },
  {
   "cell_type": "code",
   "execution_count": 28,
   "id": "95f890b5",
   "metadata": {},
   "outputs": [],
   "source": [
    "z=cv2.imread('the-sun-shining-brightly-over-knoxville-tennessee1.jpg',1)"
   ]
  },
  {
   "cell_type": "code",
   "execution_count": 29,
   "id": "a0a76a6f",
   "metadata": {},
   "outputs": [],
   "source": [
    "img1[150:500,100:480]=z[150:500,500:880]\n",
    "cv2.imshow('2',img1)\n",
    "cv2.waitKey()\n",
    "cv2.destroyAllWindows()"
   ]
  },
  {
   "cell_type": "code",
   "execution_count": null,
   "id": "1f946772",
   "metadata": {},
   "outputs": [],
   "source": []
  },
  {
   "cell_type": "code",
   "execution_count": null,
   "id": "2bba4536",
   "metadata": {},
   "outputs": [],
   "source": []
  },
  {
   "cell_type": "code",
   "execution_count": null,
   "id": "231e87d9",
   "metadata": {},
   "outputs": [],
   "source": []
  },
  {
   "cell_type": "code",
   "execution_count": null,
   "id": "a0fb774c",
   "metadata": {},
   "outputs": [],
   "source": []
  }
 ],
 "metadata": {
  "kernelspec": {
   "display_name": "Python 3",
   "language": "python",
   "name": "python3"
  },
  "language_info": {
   "codemirror_mode": {
    "name": "ipython",
    "version": 3
   },
   "file_extension": ".py",
   "mimetype": "text/x-python",
   "name": "python",
   "nbconvert_exporter": "python",
   "pygments_lexer": "ipython3",
   "version": "3.8.8"
  }
 },
 "nbformat": 4,
 "nbformat_minor": 5
}
